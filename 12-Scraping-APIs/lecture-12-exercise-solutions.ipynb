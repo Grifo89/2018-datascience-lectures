{
 "cells": [
  {
   "cell_type": "markdown",
   "metadata": {},
   "source": [
    "## Exercise 1: Exceptional Olympians\n",
    "\n",
    "Scrape data from [this wikipedia site](https://en.wikipedia.org/wiki/List_of_multiple_Olympic_medalists) about exceptional Olympic medalists. \n",
    "\n",
    "1. Download the html using urllib. \n",
    "2. Parse this html with BeautifulSoup.\n",
    "3. Extract the html that corresponds to the big table from the soup.\n",
    "4. Parse the table into a pandas dataframe. Hint: both the \"No.\" and the \"Total.\" column use row-spans which are tricky to parse, both with a pandas reader and manually. For the purpose of this exercise, exclude all rows that are not easy to parse (the first one is Bjørn Dæhlie).\n",
    "5. Create a table that shows for each country how many gold, silver, bronze, and total medals it won in that list."
   ]
  },
  {
   "cell_type": "code",
   "execution_count": null,
   "metadata": {
    "collapsed": true
   },
   "outputs": [],
   "source": [
    "from bs4 import BeautifulSoup\n",
    "import urllib.request\n",
    "import pandas as pd"
   ]
  },
  {
   "cell_type": "markdown",
   "metadata": {},
   "source": [
    "Download the html using urllib. \n",
    "Parse this html with BeautifulSoup."
   ]
  },
  {
   "cell_type": "code",
   "execution_count": null,
   "metadata": {
    "collapsed": true
   },
   "outputs": [],
   "source": [
    "url = \"https://en.wikipedia.org/wiki/List_of_multiple_Olympic_medalists\"\n",
    "\n",
    "req = urllib.request.Request(url)\n",
    "with urllib.request.urlopen(req) as response:\n",
    "    html = response.read()\n",
    "\n",
    "print(html)\n",
    "\n",
    "class_soup = BeautifulSoup(html, 'html.parser')"
   ]
  },
  {
   "cell_type": "markdown",
   "metadata": {},
   "source": [
    "Extract the html that corresponds to the big table from the soup."
   ]
  },
  {
   "cell_type": "code",
   "execution_count": null,
   "metadata": {
    "collapsed": true
   },
   "outputs": [],
   "source": [
    "# we can retreive all tables, our desired table is the first one:\n",
    "table_html = class_soup(\"table\")[0]\n",
    "table_html"
   ]
  },
  {
   "cell_type": "markdown",
   "metadata": {},
   "source": [
    "Parse the table into a pandas dataframe. "
   ]
  },
  {
   "cell_type": "code",
   "execution_count": null,
   "metadata": {
    "collapsed": true
   },
   "outputs": [],
   "source": [
    "athletes = pd.read_html(str(table_html), header=0)[0]"
   ]
  },
  {
   "cell_type": "markdown",
   "metadata": {},
   "source": [
    "For cases where the row is screwed up, the bronze column is NaN, which we can use to filter:"
   ]
  },
  {
   "cell_type": "code",
   "execution_count": null,
   "metadata": {
    "collapsed": true
   },
   "outputs": [],
   "source": [
    "athletes = athletes[pd.notnull(athletes[\"Bronze\"])]"
   ]
  },
  {
   "cell_type": "markdown",
   "metadata": {},
   "source": [
    "Subset to the relevant columns: "
   ]
  },
  {
   "cell_type": "code",
   "execution_count": null,
   "metadata": {
    "collapsed": true
   },
   "outputs": [],
   "source": [
    "athletes = athletes[[\"Nation\", \"Gold\", \"Silver\", \"Bronze\"]]\n",
    "athletes.head(10)"
   ]
  },
  {
   "cell_type": "markdown",
   "metadata": {},
   "source": [
    "Grouping, summing, calculating the total, and sorting: "
   ]
  },
  {
   "cell_type": "code",
   "execution_count": null,
   "metadata": {
    "collapsed": true
   },
   "outputs": [],
   "source": [
    "countries = athletes.groupby(\"Nation\").sum()"
   ]
  },
  {
   "cell_type": "code",
   "execution_count": null,
   "metadata": {
    "collapsed": true
   },
   "outputs": [],
   "source": [
    "countries[\"Total\"] = countries[\"Gold\"] + countries[\"Silver\"] + countries[\"Bronze\"]\n",
    "countries.sort_values(\"Total\", ascending=False)"
   ]
  },
  {
   "cell_type": "markdown",
   "metadata": {},
   "source": [
    "## Exercise 2 – APIs\n",
    "\n",
    "Use the [Open Notify API](http://open-notify.org/Open-Notify-API/People-In-Space/) to find out how many people are in space right now."
   ]
  },
  {
   "cell_type": "code",
   "execution_count": 2,
   "metadata": {},
   "outputs": [
    {
     "data": {
      "text/plain": [
       "{'message': 'success',\n",
       " 'number': 6,\n",
       " 'people': [{'craft': 'ISS', 'name': 'Alexander Misurkin'},\n",
       "  {'craft': 'ISS', 'name': 'Mark Vande Hei'},\n",
       "  {'craft': 'ISS', 'name': 'Joe Acaba'},\n",
       "  {'craft': 'ISS', 'name': 'Anton Shkaplerov'},\n",
       "  {'craft': 'ISS', 'name': 'Scott Tingle'},\n",
       "  {'craft': 'ISS', 'name': 'Norishige Kanai'}]}"
      ]
     },
     "execution_count": 2,
     "metadata": {},
     "output_type": "execute_result"
    }
   ],
   "source": [
    "import requests \n",
    "\n",
    "url = \"http://api.open-notify.org/astros.json\"\n",
    "\n",
    "r = requests.get(url)\n",
    "data = r.json()\n",
    "data"
   ]
  }
 ],
 "metadata": {
  "kernelspec": {
   "display_name": "Python 3",
   "language": "python",
   "name": "python3"
  },
  "language_info": {
   "codemirror_mode": {
    "name": "ipython",
    "version": 3
   },
   "file_extension": ".py",
   "mimetype": "text/x-python",
   "name": "python",
   "nbconvert_exporter": "python",
   "pygments_lexer": "ipython3",
   "version": "3.6.3"
  }
 },
 "nbformat": 4,
 "nbformat_minor": 2
}
