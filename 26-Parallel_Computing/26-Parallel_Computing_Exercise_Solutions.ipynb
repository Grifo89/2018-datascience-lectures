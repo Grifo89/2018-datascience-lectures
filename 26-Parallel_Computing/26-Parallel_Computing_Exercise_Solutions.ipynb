{
 "cells": [
  {
   "cell_type": "markdown",
   "metadata": {},
   "source": [
    "# Introduction to Data Science – Parallel Computing Exercise Solutions \n",
    "*COMP 5360 / MATH 4100, University of Utah, http://datasciencecourse.net/* \n"
   ]
  },
  {
   "cell_type": "markdown",
   "metadata": {},
   "source": [
    "### Exercise 2\n",
    "\n",
    "In a group, develop conceptual strategies to parallelize these operations for the following tasks. Think about how to split the input (you want to split evenly with respect to workload) and how to merge the data. \n",
    "\n",
    " * Multiply all elements of a large array by 4.\n",
    " * Calcualte the mean of a very large array.\n",
    " * Check all numbers from one to a hundred thousand for primality.\n",
    "\n",
    "Which of these operations is better to parralelize? "
   ]
  },
  {
   "cell_type": "markdown",
   "metadata": {},
   "source": [
    "### Exercise 3\n",
    "1. Calculate the mean for a very large array using a parallel and a serial algorithm. Compare the two. "
   ]
  },
  {
   "cell_type": "code",
   "execution_count": 8,
   "metadata": {},
   "outputs": [
    {
     "data": {
      "text/plain": [
       "[0.7055394426269985,\n",
       " 0.475709070506783,\n",
       " 0.18784854104158566,\n",
       " 0.2849275005605879,\n",
       " 0.7796288215469093,\n",
       " 0.3882321765291429,\n",
       " 0.4016016560408321,\n",
       " 0.9352459247159947,\n",
       " 0.45375297114491286,\n",
       " 0.8065319778040616]"
      ]
     },
     "execution_count": 8,
     "metadata": {},
     "output_type": "execute_result"
    }
   ],
   "source": [
    "import random\n",
    "big_array = [random.random() for _ in range(10000)]\n",
    "big_array[:10]"
   ]
  },
  {
   "cell_type": "markdown",
   "metadata": {},
   "source": [
    "### Exercise 4\n",
    "\n",
    "Write a class `Dog` that has an array of tricks (strings). Add and add_trick function. Initialize a couple of dogs and add different tricks. Print which tricks each dog can do. "
   ]
  },
  {
   "cell_type": "code",
   "execution_count": 1,
   "metadata": {
    "collapsed": true
   },
   "outputs": [],
   "source": [
    "class Dog:\n",
    "\n",
    "#     Defining fields inside the __init__ funciton (also known as constructor) makes them unique\n",
    "#     Each instance has a unique copy of the field.\n",
    "    def __init__(self):\n",
    "        self.tricks = []\n",
    "    \n",
    "    def add_trick(self, trick):\n",
    "        self.tricks.append(trick)"
   ]
  },
  {
   "cell_type": "code",
   "execution_count": 2,
   "metadata": {},
   "outputs": [
    {
     "name": "stdout",
     "output_type": "stream",
     "text": [
      "Tuffy can: Jump, Roll Over\n",
      "Roger can:  Shake hand, Dance\n",
      "Woof can:  Play guitar, Win Nobel\n"
     ]
    }
   ],
   "source": [
    "tuffy = Dog()\n",
    "tuffy.add_trick(\"Jump\")\n",
    "tuffy.add_trick(\"Roll Over\")\n",
    "\n",
    "roger = Dog()\n",
    "roger.add_trick(\"Shake hand\")\n",
    "roger.add_trick(\"Dance\")\n",
    "\n",
    "woof = Dog()\n",
    "woof.add_trick(\"Play guitar\")\n",
    "woof.add_trick(\"Win Nobel\")\n",
    "\n",
    "print(\"Tuffy can:\", \", \".join(tuffy.tricks))\n",
    "print(\"Roger can: \", \", \".join(roger.tricks))\n",
    "print(\"Woof can: \", \", \".join(woof.tricks))"
   ]
  },
  {
   "cell_type": "markdown",
   "metadata": {},
   "source": [
    "### Exercise 5:\n",
    "How would you use MapReduce to find anagrams?"
   ]
  },
  {
   "cell_type": "code",
   "execution_count": 2,
   "metadata": {
    "collapsed": true
   },
   "outputs": [],
   "source": [
    "import findspark\n",
    "#findspark.init()\n",
    "from pyspark import SparkContext"
   ]
  },
  {
   "cell_type": "code",
   "execution_count": 3,
   "metadata": {
    "collapsed": true
   },
   "outputs": [],
   "source": [
    "wordlist =  ['masquerade',\n",
    "    'squaremade',\n",
    "    'dianas',\n",
    "    'naiads',\n",
    "    'antagonist',\n",
    "    'stagnation',\n",
    "    'bates',\n",
    "    'beast',\n",
    "    'beats',\n",
    "    'thanks',\n",
    "    'ability',\n",
    "    'able',\n",
    "    'ably',\n",
    "    'ac',\n",
    "    'acal',\n",
    "    'acea',\n",
    "    'aceae',\n",
    "    'acean',\n",
    "    'aceous',\n",
    "    'acious',\n",
    "    'acitate',\n",
    "    'acity',\n",
    "    'acy',\n",
    "    'ad',\n",
    "    'ade',\n",
    "    'adelphia',\n",
    "    'adelphous',\n",
    "    'ado',\n",
    "    'ae',\n",
    "    'aemia',\n",
    "    'age',\n",
    "    'agogue',\n",
    "    'al',\n",
    "    'ales',\n",
    "    'algia']\n",
    "\n",
    "sc = SparkContext(\"local\")\n",
    "\n",
    "wordlist_rdd = sc.parallelize(wordlist)\n",
    "wordlist_keyval = wordlist_rdd.map(lambda word: (\"\".join(sorted([letter for letter in word])),[word]))\n",
    "\n",
    "result = wordlist_keyval.reduceByKey(lambda word1,word2: word1 + word2)\n"
   ]
  },
  {
   "cell_type": "code",
   "execution_count": 5,
   "metadata": {},
   "outputs": [
    {
     "name": "stdout",
     "output_type": "stream",
     "text": [
      "[('aadeemqrsu', ['masquerade', 'squaremade']), ('aadins', ['dianas', 'naiads']), ('aaginnostt', ['antagonist', 'stagnation']), ('abest', ['bates', 'beast', 'beats']), ('ahknst', ['thanks']), ('abiilty', ['ability']), ('abel', ['able']), ('ably', ['ably']), ('ac', ['ac']), ('aacl', ['acal']), ('aace', ['acea']), ('aacee', ['aceae']), ('aacen', ['acean']), ('aceosu', ['aceous']), ('aciosu', ['acious']), ('aaceitt', ['acitate']), ('acity', ['acity']), ('acy', ['acy']), ('ad', ['ad']), ('ade', ['ade'])]\n"
     ]
    }
   ],
   "source": [
    "print(result.take(20))"
   ]
  }
 ],
 "metadata": {
  "anaconda-cloud": {},
  "kernelspec": {
   "display_name": "Python 3",
   "language": "python",
   "name": "python3"
  },
  "language_info": {
   "codemirror_mode": {
    "name": "ipython",
    "version": 3
   },
   "file_extension": ".py",
   "mimetype": "text/x-python",
   "name": "python",
   "nbconvert_exporter": "python",
   "pygments_lexer": "ipython3",
   "version": "3.6.3"
  }
 },
 "nbformat": 4,
 "nbformat_minor": 1
}
